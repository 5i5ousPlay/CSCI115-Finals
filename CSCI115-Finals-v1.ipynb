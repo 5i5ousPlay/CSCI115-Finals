{
 "cells": [
  {
   "cell_type": "code",
   "execution_count": 1,
   "id": "140333ea-9c67-4848-bb5b-57648c11200c",
   "metadata": {},
   "outputs": [],
   "source": [
    "# Standard libraries\n",
    "import numpy as np\n",
    "import matplotlib.pyplot as plt\n",
    "\n",
    "# NetworkX for graph handling\n",
    "import networkx as nx\n",
    "\n",
    "# Torch and PyTorch Geometric for graph-based learning\n",
    "import torch\n",
    "import torch.nn.functional as F\n",
    "from torch_geometric.nn import MessagePassing\n",
    "from torch_geometric.utils import from_networkx, add_self_loops, degree\n",
    "\n",
    "# SciPy for handling matrix files\n",
    "from scipy.io import mmread"
   ]
  },
  {
   "cell_type": "code",
   "execution_count": 2,
   "id": "e0f5039e-0fd3-45bd-9acf-76888ca14377",
   "metadata": {},
   "outputs": [],
   "source": [
    "# this may take a while\n",
    "a = mmread('datasets/socfb-Harvard1/socfb-Harvard1.mtx')\n",
    "G = nx.Graph(a)"
   ]
  },
  {
   "cell_type": "code",
   "execution_count": 3,
   "id": "7dabf2d3-a3c2-4500-b57a-95e2f8ad778f",
   "metadata": {},
   "outputs": [
    {
     "data": {
      "text/plain": [
       "15126"
      ]
     },
     "execution_count": 3,
     "metadata": {},
     "output_type": "execute_result"
    }
   ],
   "source": [
    "n_nodes = len(G.nodes)\n",
    "n_nodes"
   ]
  },
  {
   "cell_type": "code",
   "execution_count": 4,
   "id": "756e6297-8ab5-4344-b7de-0d8983da83e4",
   "metadata": {},
   "outputs": [],
   "source": [
    "# this also may take a while\n",
    "edge_index = from_networkx(G).edge_index"
   ]
  },
  {
   "cell_type": "code",
   "execution_count": 5,
   "id": "8ad70eac-8e6c-45e3-95b1-16a798e3c4d4",
   "metadata": {},
   "outputs": [
    {
     "data": {
      "text/plain": [
       "torch.Size([2, 1649234])"
      ]
     },
     "execution_count": 5,
     "metadata": {},
     "output_type": "execute_result"
    }
   ],
   "source": [
    "edge_index.shape"
   ]
  },
  {
   "cell_type": "code",
   "execution_count": 6,
   "id": "413b9fe1-597f-4807-8c6c-e14d3733e72b",
   "metadata": {},
   "outputs": [],
   "source": [
    "class BeliefMessagePassing(MessagePassing):\n",
    "    \"\"\"\n",
    "    Implements a message-passing mechanism for belief propagation in a network.\n",
    "\n",
    "    This model simulates how beliefs spread over a network based on neighbors' \n",
    "    beliefs and an individual's openness to external influence.\n",
    "\n",
    "    Attributes:\n",
    "        linear (torch.nn.Linear): A linear transformation applied to aggregated messages.\n",
    "        num_timesteps (int): Number of propagation steps in the message-passing process.\n",
    "    \"\"\"\n",
    "\n",
    "    def __init__(self, in_channels=1, out_channels=1, num_timesteps: int = 5):\n",
    "        \"\"\"\n",
    "        Initializes the belief propagation model.\n",
    "\n",
    "        Args:\n",
    "            in_channels (int): Dimensionality of input node features. Defaults to 1.\n",
    "            out_channels (int): Dimensionality of transformed node features. Defaults to 1.\n",
    "            num_timesteps (int, optional): Number of message-passing iterations. Defaults to 5.\n",
    "        \"\"\"\n",
    "        super().__init__(aggr='mean')  # Use mean aggregation of messages\n",
    "        self.linear = torch.nn.Linear(in_channels, out_channels)\n",
    "        self.num_timesteps = num_timesteps\n",
    "\n",
    "    def forward(self, x, edge_index, alpha_matrix=None):\n",
    "        \"\"\"\n",
    "        Forward pass for belief propagation.\n",
    "\n",
    "        Args:\n",
    "            x (torch.Tensor): Node feature matrix of shape (num_nodes, in_channels).\n",
    "            edge_index (torch.Tensor): Graph connectivity in COO format.\n",
    "            alpha_matrix (torch.Tensor, optional): Openness values for each node. Shape: (num_nodes, 1).\n",
    "\n",
    "        Returns:\n",
    "            torch.Tensor: Updated node features after belief propagation.\n",
    "            list[torch.Tensor]: List of node embeddings over time.\n",
    "        \"\"\"\n",
    "        # Add self-loops to ensure that each node retains its original information\n",
    "        edge_index, _ = add_self_loops(edge_index, num_nodes=x.size(0))\n",
    "\n",
    "        # Compute degree normalization (symmetric normalization)\n",
    "        row, col = edge_index\n",
    "        deg = degree(row, num_nodes=x.size(0), dtype=x.dtype)\n",
    "        deg_inv_sqrt = deg.pow(-0.5)\n",
    "        deg_inv_sqrt[deg_inv_sqrt == float('inf')] = 0  # Handle isolated nodes\n",
    "        norm = deg_inv_sqrt[row] * deg_inv_sqrt[col]  # Symmetric normalization\n",
    "\n",
    "        # Initialize alpha_matrix (openness) if not provided\n",
    "        if alpha_matrix is None:\n",
    "            alpha_matrix = torch.rand((x.size(0), 1))  # Random openness values\n",
    "\n",
    "        # Store belief embeddings at each timestep\n",
    "        embeddings_over_time = [x.clone().detach()]\n",
    "\n",
    "        # Message passing for multiple timesteps\n",
    "        for _ in range(self.num_timesteps):\n",
    "            x = self.propagate(edge_index, x=x, norm=norm, alpha_matrix=alpha_matrix)\n",
    "            embeddings_over_time.append(x.clone().detach())\n",
    "\n",
    "        return x, embeddings_over_time\n",
    "\n",
    "    def message(self, x_j, norm):\n",
    "        \"\"\"\n",
    "        Message function that applies degree normalization to incoming messages.\n",
    "\n",
    "        Args:\n",
    "            x_j (torch.Tensor): Features of neighboring nodes.\n",
    "            norm (torch.Tensor): Degree normalization factor.\n",
    "\n",
    "        Returns:\n",
    "            torch.Tensor: Normalized messages.\n",
    "        \"\"\"\n",
    "        return norm.view(-1, 1) * x_j\n",
    "\n",
    "    def update(self, aggr_out, x, alpha_matrix):\n",
    "        \"\"\"\n",
    "        Update function that determines how beliefs change based on neighbors' beliefs.\n",
    "\n",
    "        Args:\n",
    "            aggr_out (torch.Tensor): Aggregated messages from neighbors.\n",
    "            x (torch.Tensor): Current node beliefs.\n",
    "            alpha_matrix (torch.Tensor): Openness values for each node.\n",
    "\n",
    "        Returns:\n",
    "            torch.Tensor: Updated belief values.\n",
    "        \"\"\"\n",
    "        # Compute similarity between a node's current belief and the aggregated belief from neighbors\n",
    "        similarity = torch.cosine_similarity(aggr_out, x, dim=-1, eps=1e-6).unsqueeze(-1)\n",
    "\n",
    "        # Compute updated belief: a node is influenced by neighbors' beliefs based on similarity\n",
    "        updated_belief = similarity * self.linear(aggr_out) + (1 - similarity) * x\n",
    "\n",
    "        # Final belief update incorporating openness (alpha_matrix)\n",
    "        return torch.tanh(alpha_matrix * updated_belief + (1 - alpha_matrix) * x)"
   ]
  },
  {
   "cell_type": "markdown",
   "id": "b5ab4de6-0ce6-45a8-8f1b-17e2451ad3e5",
   "metadata": {},
   "source": [
    "**Note:** I was too lazy to code the population generator so I just GPTed this. Some of the distributions missing are uniform distribution for beliefs and bimodal distributions for openness."
   ]
  },
  {
   "cell_type": "code",
   "execution_count": 7,
   "id": "b959e281-abc6-40e2-b729-75b486478d61",
   "metadata": {},
   "outputs": [],
   "source": [
    "class PopulationGenerator:\n",
    "    def __init__(self, G: nx.Graph, \n",
    "                 belief_dist=\"normal\", openness_dist=\"uniform\", \n",
    "                 belief_params=None, openness_params=None):\n",
    "        \"\"\"\n",
    "        Initialize the population generator.\n",
    "\n",
    "        Parameters:\n",
    "        - G (nx.Graph): The network graph.\n",
    "        - belief_dist (str): Type of belief distribution (\"normal\", \"bimodal\", \"beta\").\n",
    "        - openness_dist (str): Type of openness distribution (\"uniform\", \"normal\", \"beta\").\n",
    "        - belief_params (dict): Parameters for belief distribution.\n",
    "        - openness_params (dict): Parameters for openness distribution.\n",
    "        \"\"\"\n",
    "        self.G = G\n",
    "        self.belief_dist = belief_dist\n",
    "        self.openness_dist = openness_dist\n",
    "        self.belief_params = belief_params if belief_params else {}\n",
    "        self.openness_params = openness_params if openness_params else {}\n",
    "\n",
    "    def generate_beliefs(self, num_nodes):\n",
    "        \"\"\"Generates belief values based on the selected distribution.\"\"\"\n",
    "        if self.belief_dist == \"normal\":\n",
    "            mean = self.belief_params.get(\"mean\", 0)\n",
    "            std = self.belief_params.get(\"std\", 0.5)\n",
    "            beliefs = np.random.normal(loc=mean, scale=std, size=num_nodes)\n",
    "\n",
    "        elif self.belief_dist == \"bimodal\":\n",
    "            size1 = num_nodes // 2\n",
    "            size2 = num_nodes - size1\n",
    "            beliefs = np.concatenate([\n",
    "                np.random.normal(loc=-0.8, scale=0.2, size=size1),\n",
    "                np.random.normal(loc=0.8, scale=0.2, size=size2)\n",
    "            ])\n",
    "\n",
    "        elif self.belief_dist == \"beta\":\n",
    "            a = self.belief_params.get(\"a\", 5)\n",
    "            b = self.belief_params.get(\"b\", 2)\n",
    "            beliefs = 2 * np.random.beta(a, b, size=num_nodes) - 1  # Scale to [-1,1]\n",
    "\n",
    "        else:\n",
    "            raise ValueError(\"Unsupported belief distribution type!\")\n",
    "\n",
    "        return np.clip(beliefs, -1, 1)  # Clip between -1 and 1\n",
    "\n",
    "    def generate_openness(self, num_nodes):\n",
    "        \"\"\"Generates openness values based on the selected distribution.\"\"\"\n",
    "        if self.openness_dist == \"uniform\":\n",
    "            a = self.openness_params.get(\"a\", 0.1)\n",
    "            b = self.openness_params.get(\"b\", 0.9)\n",
    "            openness = np.random.uniform(a, b, size=num_nodes)\n",
    "\n",
    "        elif self.openness_dist == \"normal\":\n",
    "            mean = self.openness_params.get(\"mean\", 0.5)\n",
    "            std = self.openness_params.get(\"std\", 0.1)\n",
    "            openness = np.random.normal(loc=mean, scale=std, size=num_nodes)\n",
    "\n",
    "        elif self.openness_dist == \"beta\":\n",
    "            a = self.openness_params.get(\"a\", 2)\n",
    "            b = self.openness_params.get(\"b\", 5)\n",
    "            openness = np.random.beta(a, b, size=num_nodes)  # Beta is naturally [0,1]\n",
    "\n",
    "        else:\n",
    "            raise ValueError(\"Unsupported openness distribution type!\")\n",
    "\n",
    "        return np.clip(openness, 0, 1)  # Openness should always be in [0,1]\n",
    "\n",
    "    def generate(self):\n",
    "        \"\"\"Generates the population and returns belief and openness tensors.\"\"\"\n",
    "        num_nodes = len(self.G.nodes)\n",
    "\n",
    "        # Generate beliefs and openness\n",
    "        beliefs = self.generate_beliefs(num_nodes)\n",
    "        openness = self.generate_openness(num_nodes)\n",
    "\n",
    "        # Convert to PyTorch tensors\n",
    "        x = torch.from_numpy(beliefs).float().view(-1, 1)  # Belief tensor\n",
    "        alpha_matrix = torch.from_numpy(openness).float().view(-1, 1)  # Openness tensor\n",
    "\n",
    "        return x, alpha_matrix"
   ]
  },
  {
   "cell_type": "markdown",
   "id": "a0ef6ed9-93b7-48cc-a7ac-d9c220185584",
   "metadata": {},
   "source": [
    "# Belief and Openness Distributions\n",
    "\n",
    "**Note: I was also too lazy to explain the distributions so I had GPT do this too. Some of the distribution options it lists here might not be available in the population generator class.**\r\n",
    "\r\n",
    "When modeling belief and openness in a network, different probability distributions can be used to reflect various societal or structural influences on how beliefs form and spread. Below are several distribution types and their appropriate use cases.\r\n",
    "\r\n",
    "## 1. **Normal Distribution**\r\n",
    "   - **Description**: A unimodal, symmetric distribution where most values cluster around the mean, with fewer extreme values.\r\n",
    "   - **When to Use**: \r\n",
    "     - When belief formation is influenced by multiple small, independent factors.\r\n",
    "     - In environments where beliefs follow a natural tendency toward moderate positions, with fewer extreme believers or disbelievers.\r\n",
    "     - When openness levels are normally distributed due to social and cognitive diversity.\r\n",
    "\r\n",
    "## 2. **Bimodal Distribution**\r\n",
    "   - **Description**: A distribution with two peaks, representing two dominant groups of belief (e.g., strong believers and strong disbelievers).\r\n",
    "   - **When to Use**: \r\n",
    "     - When the population is polarized, possibly due to confirmation bias, echo chambers, or media influence.\r\n",
    "     - In scenarios where social or algorithmic reinforcement leads to a lack of moderate perspectives.\r\n",
    "     - If openness is similarly polarized, where one group is highly open and another is very closed.\r\n",
    "\r\n",
    "## 3. **Beta Distribution (Skewed)**\r\n",
    "   - **Description**: A flexible distribution that can be skewed toward one extreme (e.g., most people leaning toward belief or disbelief).\r\n",
    "   - **When to Use**:\r\n",
    "     - When belief formation is dominated by strong external influences like political, religious, or cultural indoctrination.\r\n",
    "     - In cases where the majority leans toward one view, but a minority still holds an opposing belief.\r\n",
    "     - When openness is shaped by a dominant cultural norm, where most people are either highly open or highly closed.\r\n",
    "\r\n",
    "## 4. **Uniform Distribution**\r\n",
    "   - **Description**: A flat distribution where all values are equally likely.\r\n",
    "   - **When to Use**: \r\n",
    "     - When beliefs are initialized randomly without any inherent bias.\r\n",
    "     - In experimental setups where no prior assumption is made about how belief is distributed.\r\n",
    "     - When modeling openness in an unpredictable or chaotic environment.\r\n",
    "\r\n",
    "Each of these distributions provides a different lens for modeling how belief and openness are structured in a population. The choice of distribution should be guided by empirical data or theoretical considerations based on the environment being simulated.\r\n"
   ]
  },
  {
   "cell_type": "code",
   "execution_count": 8,
   "id": "1a77424d-d427-4977-b36e-89ef481423b3",
   "metadata": {},
   "outputs": [],
   "source": [
    "# default population belief distribution is normal and openness distribution is uniform, we can change this tbh so that both are normal or to adapt openness based on other studies we can find\n",
    "# the generator is also already monte-carlo-ed since it randomly generates a new kind of population each time\n",
    "pop_gen = PopulationGenerator(G)\n",
    "x, alpha_matrix = pop_gen.generate()\n",
    "\n",
    "model = BeliefMessagePassing(in_channels=1, out_channels=1, num_timesteps=20)\n",
    "final, over_time = model(x, edge_index, alpha_matrix)"
   ]
  },
  {
   "cell_type": "markdown",
   "id": "0da8d750-ffde-4629-ab6b-74c24b198590",
   "metadata": {},
   "source": [
    "Run the cell below to graph out the believers at each time step"
   ]
  },
  {
   "cell_type": "code",
   "execution_count": 9,
   "id": "f4b37514-69f3-4ff6-b3a6-333fd5cf39f6",
   "metadata": {},
   "outputs": [
    {
     "data": {
      "text/plain": [
       "<matplotlib.legend.Legend at 0x1a394b42060>"
      ]
     },
     "execution_count": 9,
     "metadata": {},
     "output_type": "execute_result"
    },
    {
     "data": {
      "image/png": "[encoded data removed]",
      "text/plain": [
       "<Figure size 640x480 with 1 Axes>"
      ]
     },
     "metadata": {},
     "output_type": "display_data"
    }
   ],
   "source": [
    "believers_over_time = []\n",
    "nonbelievers_over_time = []\n",
    "moderates_over_time = []\n",
    "\n",
    "for timestep in over_time:\n",
    "    believers = (timestep > 0.5).sum(dim=0)\n",
    "    believers_over_time.append(believers)\n",
    "\n",
    "    nonbelievers = (timestep <-0.5).sum(dim=0)\n",
    "    nonbelievers_over_time.append(nonbelievers)\n",
    "\n",
    "    total_pop = len(G.nodes)\n",
    "    moderates_over_time.append(total_pop - (nonbelievers + believers))\n",
    "\n",
    "fig, ax = plt.subplots()\n",
    "ax.plot(range(0,model.num_timesteps+1), believers_over_time, color='blue', label='believers')\n",
    "ax.plot(range(0,model.num_timesteps+1), nonbelievers_over_time, color='red', label='non-believers')\n",
    "ax.plot(range(0,model.num_timesteps+1), moderates_over_time, color='green', label='unsure')\n",
    "ax.legend(title='Groups', loc='upper right')"
   ]
  },
  {
   "cell_type": "markdown",
   "id": "f9f4e43e-0ce6-4016-9cec-e8ebf5b4f994",
   "metadata": {},
   "source": [
    "# TODO:\n",
    "* Implement different scenarios in the PopulationGenerator class like:\n",
    "  * echo-chambers where people with similar beliefs tend to be more connected and a node's belief is closer to the average of its neighbors; or\n",
    "  * polarized groups where there is a strong division between two opposing groups\n",
    "* Implement closeness (Optional):\n",
    "  * edge labels that indicate how \"close\" an individual is with another person with the assumption that you are more likely to believe / entertain someone you are closer to"
   ]
  },
  {
   "cell_type": "code",
   "execution_count": null,
   "id": "4306e4f0-570c-4ade-96d1-aef470ff9ae3",
   "metadata": {},
   "outputs": [],
   "source": []
  }
 ],
 "metadata": {
  "kernelspec": {
   "display_name": "Python 3 (ipykernel)",
   "language": "python",
   "name": "python3"
  },
  "language_info": {
   "codemirror_mode": {
    "name": "ipython",
    "version": 3
   },
   "file_extension": ".py",
   "mimetype": "text/x-python",
   "name": "python",
   "nbconvert_exporter": "python",
   "pygments_lexer": "ipython3",
   "version": "3.12.4"
  }
 },
 "nbformat": 4,
 "nbformat_minor": 5
}
